{
 "cells": [
  {
   "cell_type": "markdown",
   "id": "0137b832",
   "metadata": {},
   "source": [
    "# Intro to NumPy"
   ]
  },
  {
   "cell_type": "markdown",
   "id": "7ae6de4d",
   "metadata": {},
   "source": [
    "NumPy is the fundamental package for scientific computing with Python. It's used for working with arrays and contains functions for working in the domain of linear algebra, fourier transform, and matrices. In Python we have list, which serve the purpose of arrays, so why do we bother learning NumPy in the first place? Well, NumPy arrays are much faster than traditional Python lists and provide many supporting functions that make working with arrays easier. Part of why they're significantly faster is because the parts that require fast computation are written in C or C++.\n",
    "\n",
    "Let's begin by importing NumPy and learning how to create NumPy arrays. If for some reason you don't have numpy installed, you will first have to go to your terminal (or Anaconda Prompt if on Windows) and enter the following:\n",
    "\n",
    "conda install numpy\n",
    "\n",
    "Make sure you've already installed Anaconda"
   ]
  },
  {
   "cell_type": "code",
   "execution_count": 138,
   "id": "4e5f30b6",
   "metadata": {},
   "outputs": [],
   "source": [
    "# Importing NumPy\n",
    "import numpy as np"
   ]
  },
  {
   "cell_type": "markdown",
   "id": "25b96e7f",
   "metadata": {},
   "source": [
    "# Creating Arrays and Common Methods\n",
    "The first way of creating a NumPy array is by converting your existing Python list."
   ]
  },
  {
   "cell_type": "code",
   "execution_count": 139,
   "id": "42ed9adc",
   "metadata": {},
   "outputs": [
    {
     "name": "stdout",
     "output_type": "stream",
     "text": [
      "[1, 2, 3, 4, 5]\n",
      "<class 'list'>\n"
     ]
    }
   ],
   "source": [
    "# Eaxmple code from pdf\n",
    "# Create python list and print output\n",
    "python_list = [1, 2, 3, 4, 5]\n",
    "print(python_list)\n",
    "print(type(python_list))"
   ]
  },
  {
   "cell_type": "code",
   "execution_count": 140,
   "id": "f3e45245",
   "metadata": {
    "scrolled": true
   },
   "outputs": [
    {
     "name": "stdout",
     "output_type": "stream",
     "text": [
      "[2, 4, 6, 8, 10]\n",
      "<class 'list'>\n"
     ]
    }
   ],
   "source": [
    "# My example code\n",
    "# Create python list and print output\n",
    "py_list = [2, 4, 6, 8, 10]\n",
    "print(py_list)\n",
    "print(type(py_list))"
   ]
  },
  {
   "cell_type": "code",
   "execution_count": 141,
   "id": "effa642b",
   "metadata": {},
   "outputs": [
    {
     "name": "stdout",
     "output_type": "stream",
     "text": [
      "[1 2 3 4 5]\n",
      "<class 'numpy.ndarray'>\n"
     ]
    }
   ],
   "source": [
    "# Example code from pdf\n",
    "# Create numpy array and print output\n",
    "numpy_array = np.array(python_list)\n",
    "print(numpy_array)\n",
    "print(type(numpy_array))"
   ]
  },
  {
   "cell_type": "code",
   "execution_count": 142,
   "id": "0dbe0461",
   "metadata": {},
   "outputs": [
    {
     "name": "stdout",
     "output_type": "stream",
     "text": [
      "[ 2  4  6  8 10]\n",
      "<class 'numpy.ndarray'>\n"
     ]
    }
   ],
   "source": [
    "# My example code\n",
    "# Create numpy array and print output\n",
    "npy_array = np.array(py_list)\n",
    "print(npy_array)\n",
    "print(type(npy_array))"
   ]
  },
  {
   "cell_type": "code",
   "execution_count": 143,
   "id": "330a8cc9",
   "metadata": {},
   "outputs": [
    {
     "name": "stdout",
     "output_type": "stream",
     "text": [
      "[[1, 2, 3, 4, 5], [6, 7, 8, 9, 10], [11, 12, 13, 14, 15]]\n",
      "<class 'list'>\n"
     ]
    }
   ],
   "source": [
    "# Example code from pdf\n",
    "# 2d array list\n",
    "python_2d_array = [[1, 2, 3, 4, 5], [6, 7, 8, 9, 10], [11, 12, 13, 14, 15]]\n",
    "print(python_2d_array)\n",
    "print(type(python_2d_array))"
   ]
  },
  {
   "cell_type": "code",
   "execution_count": 144,
   "id": "cb1b9890",
   "metadata": {},
   "outputs": [
    {
     "name": "stdout",
     "output_type": "stream",
     "text": [
      "[[10, 20, 30, 40, 50], [60, 70, 80, 90, 100], [110, 120, 130, 140, 150]]\n",
      "<class 'list'>\n"
     ]
    }
   ],
   "source": [
    "# My example code\n",
    "# # 2d array list\n",
    "py_2d_array = [[10, 20, 30, 40, 50], [60, 70, 80, 90, 100], [110, 120, 130, 140, 150]]\n",
    "print(py_2d_array)\n",
    "print(type(py_2d_array))"
   ]
  },
  {
   "cell_type": "code",
   "execution_count": 145,
   "id": "a2d221de",
   "metadata": {},
   "outputs": [
    {
     "name": "stdout",
     "output_type": "stream",
     "text": [
      "[[ 1  2  3  4  5]\n",
      " [ 6  7  8  9 10]\n",
      " [11 12 13 14 15]]\n",
      "<class 'numpy.ndarray'>\n"
     ]
    }
   ],
   "source": [
    "# Example code from pdf\n",
    "# 2d numpy array\n",
    "numpy_2d_array = np.array(python_2d_array)\n",
    "print(numpy_2d_array)\n",
    "print(type(numpy_2d_array))"
   ]
  },
  {
   "cell_type": "code",
   "execution_count": 146,
   "id": "583101e2",
   "metadata": {},
   "outputs": [
    {
     "name": "stdout",
     "output_type": "stream",
     "text": [
      "[[ 10  20  30  40  50]\n",
      " [ 60  70  80  90 100]\n",
      " [110 120 130 140 150]]\n",
      "<class 'numpy.ndarray'>\n"
     ]
    }
   ],
   "source": [
    "# My example code\n",
    "#2d numpy array\n",
    "npy_2d_array = np.array(py_2d_array)\n",
    "print(npy_2d_array)\n",
    "print(type(npy_2d_array))"
   ]
  },
  {
   "cell_type": "code",
   "execution_count": 147,
   "id": "fcc3d9cc",
   "metadata": {},
   "outputs": [
    {
     "data": {
      "text/plain": [
       "array([ 0,  1,  2,  3,  4,  5,  6,  7,  8,  9, 10, 11, 12, 13, 14])"
      ]
     },
     "execution_count": 147,
     "metadata": {},
     "output_type": "execute_result"
    }
   ],
   "source": [
    "# Example code from pdf\n",
    "# arrange(start, stop)\n",
    "np.arange(0, 15)"
   ]
  },
  {
   "cell_type": "code",
   "execution_count": 148,
   "id": "dc988f37",
   "metadata": {},
   "outputs": [
    {
     "data": {
      "text/plain": [
       "array([ 3,  4,  5,  6,  7,  8,  9, 10])"
      ]
     },
     "execution_count": 148,
     "metadata": {},
     "output_type": "execute_result"
    }
   ],
   "source": [
    "# My example code\n",
    "# arrange(start, stop)\n",
    "np.arange(3, 11)"
   ]
  },
  {
   "cell_type": "code",
   "execution_count": 149,
   "id": "8347d99d",
   "metadata": {},
   "outputs": [
    {
     "data": {
      "text/plain": [
       "array([ 0,  2,  4,  6,  8, 10, 12, 14])"
      ]
     },
     "execution_count": 149,
     "metadata": {},
     "output_type": "execute_result"
    }
   ],
   "source": [
    "# Example code from pdf\n",
    "# with steps\n",
    "np.arange(0, 15, 2)"
   ]
  },
  {
   "cell_type": "code",
   "execution_count": 150,
   "id": "27463045",
   "metadata": {},
   "outputs": [
    {
     "data": {
      "text/plain": [
       "array([ 0,  4,  8, 12])"
      ]
     },
     "execution_count": 150,
     "metadata": {},
     "output_type": "execute_result"
    }
   ],
   "source": [
    "# My example code\n",
    "# with steps\n",
    "np.arange(0, 15, 4)"
   ]
  },
  {
   "cell_type": "code",
   "execution_count": 151,
   "id": "0bf4f41d",
   "metadata": {},
   "outputs": [
    {
     "data": {
      "text/plain": [
       "array([[ 0,  1,  2,  3,  4],\n",
       "       [ 5,  6,  7,  8,  9],\n",
       "       [10, 11, 12, 13, 14]])"
      ]
     },
     "execution_count": 151,
     "metadata": {},
     "output_type": "execute_result"
    }
   ],
   "source": [
    "# Example code from pdf\n",
    "# put in matrix\n",
    "np.arange(0, 15).reshape(3, 5)"
   ]
  },
  {
   "cell_type": "code",
   "execution_count": 152,
   "id": "44980ac2",
   "metadata": {},
   "outputs": [
    {
     "data": {
      "text/plain": [
       "array([[0, 1, 2, 3, 4],\n",
       "       [5, 6, 7, 8, 9]])"
      ]
     },
     "execution_count": 152,
     "metadata": {},
     "output_type": "execute_result"
    }
   ],
   "source": [
    "# My example code\n",
    "# put in matrix\n",
    "np.arange(0, 10).reshape(2, 5)"
   ]
  },
  {
   "cell_type": "code",
   "execution_count": 153,
   "id": "ef5e10d6",
   "metadata": {},
   "outputs": [
    {
     "data": {
      "text/plain": [
       "array([0., 0., 0., 0., 0., 0., 0., 0., 0., 0., 0., 0., 0., 0., 0.])"
      ]
     },
     "execution_count": 153,
     "metadata": {},
     "output_type": "execute_result"
    }
   ],
   "source": [
    "# Example code from pdf\n",
    "# fill array with zeros\n",
    "np.zeros(15)"
   ]
  },
  {
   "cell_type": "code",
   "execution_count": 154,
   "id": "85fd2e99",
   "metadata": {},
   "outputs": [
    {
     "data": {
      "text/plain": [
       "array([0., 0., 0., 0., 0., 0., 0.])"
      ]
     },
     "execution_count": 154,
     "metadata": {},
     "output_type": "execute_result"
    }
   ],
   "source": [
    "# My example code\n",
    "# with array with zeros\n",
    "np.zeros(7)"
   ]
  },
  {
   "cell_type": "code",
   "execution_count": 155,
   "id": "bd348914",
   "metadata": {},
   "outputs": [
    {
     "data": {
      "text/plain": [
       "array([[0., 0., 0., 0., 0.],\n",
       "       [0., 0., 0., 0., 0.],\n",
       "       [0., 0., 0., 0., 0.]])"
      ]
     },
     "execution_count": 155,
     "metadata": {},
     "output_type": "execute_result"
    }
   ],
   "source": [
    "# Example code from pdf\n",
    "# put in matrix\n",
    "np.zeros(15).reshape(3, 5)"
   ]
  },
  {
   "cell_type": "code",
   "execution_count": 156,
   "id": "1ef12878",
   "metadata": {},
   "outputs": [
    {
     "data": {
      "text/plain": [
       "array([[0., 0.],\n",
       "       [0., 0.]])"
      ]
     },
     "execution_count": 156,
     "metadata": {},
     "output_type": "execute_result"
    }
   ],
   "source": [
    "# My example code\n",
    "# put in matrix\n",
    "np.zeros(4).reshape(2, 2)"
   ]
  },
  {
   "cell_type": "code",
   "execution_count": 157,
   "id": "9ec3670f",
   "metadata": {},
   "outputs": [
    {
     "data": {
      "text/plain": [
       "array([1., 1., 1., 1., 1., 1., 1., 1., 1., 1., 1., 1., 1., 1., 1.])"
      ]
     },
     "execution_count": 157,
     "metadata": {},
     "output_type": "execute_result"
    }
   ],
   "source": [
    "# Example code from pdf\n",
    "# fill array with ones\n",
    "np.ones(15)"
   ]
  },
  {
   "cell_type": "code",
   "execution_count": 158,
   "id": "7b58691d",
   "metadata": {},
   "outputs": [
    {
     "data": {
      "text/plain": [
       "array([1., 1., 1., 1., 1.])"
      ]
     },
     "execution_count": 158,
     "metadata": {},
     "output_type": "execute_result"
    }
   ],
   "source": [
    "# My example code\n",
    "# fill array with ones\n",
    "np.ones(5)"
   ]
  },
  {
   "cell_type": "code",
   "execution_count": 159,
   "id": "b0552c08",
   "metadata": {},
   "outputs": [
    {
     "data": {
      "text/plain": [
       "array([[1., 1., 1., 1., 1.],\n",
       "       [1., 1., 1., 1., 1.],\n",
       "       [1., 1., 1., 1., 1.]])"
      ]
     },
     "execution_count": 159,
     "metadata": {},
     "output_type": "execute_result"
    }
   ],
   "source": [
    "#Example code from pdf\n",
    "# put in matrix\n",
    "np.ones(15).reshape(3, 5)"
   ]
  },
  {
   "cell_type": "code",
   "execution_count": 160,
   "id": "3083585b",
   "metadata": {},
   "outputs": [
    {
     "data": {
      "text/plain": [
       "array([[1., 1., 1.],\n",
       "       [1., 1., 1.],\n",
       "       [1., 1., 1.]])"
      ]
     },
     "execution_count": 160,
     "metadata": {},
     "output_type": "execute_result"
    }
   ],
   "source": [
    "# My example code\n",
    "# put in matrix\n",
    "np.ones(9).reshape(3, 3)"
   ]
  },
  {
   "cell_type": "code",
   "execution_count": 161,
   "id": "097f9cb5",
   "metadata": {},
   "outputs": [
    {
     "data": {
      "text/plain": [
       "array([[1, 1, 1, 1, 1],\n",
       "       [1, 1, 1, 1, 1],\n",
       "       [1, 1, 1, 1, 1]])"
      ]
     },
     "execution_count": 161,
     "metadata": {},
     "output_type": "execute_result"
    }
   ],
   "source": [
    "# Example code from pdf\n",
    "# change type float to integers\n",
    "np.ones(15, dtype=int).reshape(3, 5)"
   ]
  },
  {
   "cell_type": "code",
   "execution_count": 162,
   "id": "bfa24c3b",
   "metadata": {},
   "outputs": [
    {
     "data": {
      "text/plain": [
       "array([[1, 1, 1],\n",
       "       [1, 1, 1],\n",
       "       [1, 1, 1]])"
      ]
     },
     "execution_count": 162,
     "metadata": {},
     "output_type": "execute_result"
    }
   ],
   "source": [
    "# My example code\n",
    "# change type float to integers\n",
    "np.ones(9, dtype=int).reshape(3, 3)"
   ]
  },
  {
   "cell_type": "code",
   "execution_count": 163,
   "id": "fc853b74",
   "metadata": {},
   "outputs": [
    {
     "data": {
      "text/plain": [
       "array([[1., 0., 0., 0., 0.],\n",
       "       [0., 1., 0., 0., 0.],\n",
       "       [0., 0., 1., 0., 0.],\n",
       "       [0., 0., 0., 1., 0.],\n",
       "       [0., 0., 0., 0., 1.]])"
      ]
     },
     "execution_count": 163,
     "metadata": {},
     "output_type": "execute_result"
    }
   ],
   "source": [
    "# Example code from pdf\n",
    "np.eye(5)"
   ]
  },
  {
   "cell_type": "code",
   "execution_count": 164,
   "id": "c72d4e8a",
   "metadata": {},
   "outputs": [
    {
     "data": {
      "text/plain": [
       "array([[1., 0., 0.],\n",
       "       [0., 1., 0.],\n",
       "       [0., 0., 1.]])"
      ]
     },
     "execution_count": 164,
     "metadata": {},
     "output_type": "execute_result"
    }
   ],
   "source": [
    "# My example code\n",
    "np.eye(3)"
   ]
  },
  {
   "cell_type": "code",
   "execution_count": 165,
   "id": "cad2fe83",
   "metadata": {},
   "outputs": [
    {
     "data": {
      "text/plain": [
       "array([0.28098375, 0.31868198, 0.70312611, 0.14142701, 0.25021061])"
      ]
     },
     "execution_count": 165,
     "metadata": {},
     "output_type": "execute_result"
    }
   ],
   "source": [
    "# Example code from pdf\n",
    "# Generate 5 ndarray of random numbers from a uniform distribution\n",
    "np.random.rand(5)"
   ]
  },
  {
   "cell_type": "code",
   "execution_count": 166,
   "id": "b65de44f",
   "metadata": {},
   "outputs": [
    {
     "data": {
      "text/plain": [
       "array([0.63233585, 0.34864953, 0.0640947 ])"
      ]
     },
     "execution_count": 166,
     "metadata": {},
     "output_type": "execute_result"
    }
   ],
   "source": [
    "# My example code\n",
    "# Generate 3 ndarray of random numbers from a uniform distribution\n",
    "np.random.rand(3)"
   ]
  },
  {
   "cell_type": "code",
   "execution_count": 167,
   "id": "db229ab8",
   "metadata": {},
   "outputs": [
    {
     "data": {
      "text/plain": [
       "array([ 0.27798808,  0.0875398 , -0.62175167,  0.2394788 ,  0.26759665])"
      ]
     },
     "execution_count": 167,
     "metadata": {},
     "output_type": "execute_result"
    }
   ],
   "source": [
    "# Example code from pdf\n",
    "# Generate 5 ndarray of random numbers from the standard normal distribution\n",
    "np.random.randn(5)"
   ]
  },
  {
   "cell_type": "code",
   "execution_count": 168,
   "id": "cedaa25e",
   "metadata": {},
   "outputs": [
    {
     "data": {
      "text/plain": [
       "array([ 1.18127908, -0.14459534,  0.63412103])"
      ]
     },
     "execution_count": 168,
     "metadata": {},
     "output_type": "execute_result"
    }
   ],
   "source": [
    "# My example code\n",
    "# Generate 3 ndarray of random numbers from the standard normal distribution\n",
    "np.random.randn(3)"
   ]
  },
  {
   "cell_type": "code",
   "execution_count": 169,
   "id": "e12da899",
   "metadata": {},
   "outputs": [
    {
     "data": {
      "text/plain": [
       "53"
      ]
     },
     "execution_count": 169,
     "metadata": {},
     "output_type": "execute_result"
    }
   ],
   "source": [
    "# Example code from pdf\n",
    "# Generate a single or multiple random integers between [low, high)\n",
    "np.random.randint(1,100)"
   ]
  },
  {
   "cell_type": "code",
   "execution_count": 170,
   "id": "aeb8dccd",
   "metadata": {},
   "outputs": [
    {
     "data": {
      "text/plain": [
       "4197"
      ]
     },
     "execution_count": 170,
     "metadata": {},
     "output_type": "execute_result"
    }
   ],
   "source": [
    "# My example code\n",
    "# Generate a single or multiple random integers between [low, high)\n",
    "np.random.randint(1000,10000)"
   ]
  },
  {
   "cell_type": "code",
   "execution_count": 171,
   "id": "80586009",
   "metadata": {},
   "outputs": [
    {
     "data": {
      "text/plain": [
       "array([41, 98, 97,  1, 14, 79, 62,  9, 31, 50, 15, 36, 97, 42, 95])"
      ]
     },
     "execution_count": 171,
     "metadata": {},
     "output_type": "execute_result"
    }
   ],
   "source": [
    "# Example code from pdf\n",
    "# with sizes\n",
    "np.random.randint(1, 100, 15)"
   ]
  },
  {
   "cell_type": "code",
   "execution_count": 172,
   "id": "8f5ff933",
   "metadata": {},
   "outputs": [
    {
     "data": {
      "text/plain": [
       "array([3260, 5540, 3692, 4822, 5017])"
      ]
     },
     "execution_count": 172,
     "metadata": {},
     "output_type": "execute_result"
    }
   ],
   "source": [
    "# My example code\n",
    "# with sizes\n",
    "np.random.randint(1000, 10000, 5)"
   ]
  },
  {
   "cell_type": "code",
   "execution_count": 173,
   "id": "b01cfe50",
   "metadata": {},
   "outputs": [
    {
     "data": {
      "text/plain": [
       "array([[20, 53, 82, 95, 84],\n",
       "       [ 3, 80, 76, 87, 74],\n",
       "       [24, 22, 66, 35, 81],\n",
       "       [88,  5, 31, 46,  9]])"
      ]
     },
     "execution_count": 173,
     "metadata": {},
     "output_type": "execute_result"
    }
   ],
   "source": [
    "# Example code from pdf\n",
    "A = np.random.randint(0, 100, 20).reshape(4, 5)\n",
    "A"
   ]
  },
  {
   "cell_type": "code",
   "execution_count": 174,
   "id": "a4ca0995",
   "metadata": {},
   "outputs": [
    {
     "data": {
      "text/plain": [
       "array([[29, 83, 88],\n",
       "       [17, 64, 10]])"
      ]
     },
     "execution_count": 174,
     "metadata": {},
     "output_type": "execute_result"
    }
   ],
   "source": [
    "# My example code\n",
    "U = np.random.randint(0, 100, 6).reshape(2, 3)\n",
    "U"
   ]
  },
  {
   "cell_type": "code",
   "execution_count": 175,
   "id": "bf8d7184",
   "metadata": {},
   "outputs": [
    {
     "name": "stdout",
     "output_type": "stream",
     "text": [
      "The smallest value in A is 3, and is a located at position 5\n",
      "The largest value in A is 95, and is a located at position 3\n"
     ]
    }
   ],
   "source": [
    "# Example code from pdf\n",
    "# find samllest and largest value from matrix\n",
    "print(f'The smallest value in A is {A.min()}, and is a located at position {A.argmin()}')\n",
    "print(f'The largest value in A is {A.max()}, and is a located at position {A.argmax()}')"
   ]
  },
  {
   "cell_type": "code",
   "execution_count": 176,
   "id": "c84bb22c",
   "metadata": {},
   "outputs": [
    {
     "name": "stdout",
     "output_type": "stream",
     "text": [
      "The smallest value in matrix U is 10, and it is located at position 5\n",
      "The largest value in matrix U is 88, and it is located at position 2\n"
     ]
    }
   ],
   "source": [
    "# My example code\n",
    "# find samllest and largest value from matrix\n",
    "print(f'The smallest value in matrix U is {U.min()}, and it is located at position {U.argmin()}')\n",
    "print(f'The largest value in matrix U is {U.max()}, and it is located at position {U.argmax()}')"
   ]
  },
  {
   "cell_type": "code",
   "execution_count": 177,
   "id": "915695f8",
   "metadata": {},
   "outputs": [
    {
     "data": {
      "text/plain": [
       "(4, 5)"
      ]
     },
     "execution_count": 177,
     "metadata": {},
     "output_type": "execute_result"
    }
   ],
   "source": [
    "# Example code from pdf\n",
    "# know what dimensions\n",
    "A.shape"
   ]
  },
  {
   "cell_type": "code",
   "execution_count": 178,
   "id": "82c592c5",
   "metadata": {},
   "outputs": [
    {
     "data": {
      "text/plain": [
       "(2, 3)"
      ]
     },
     "execution_count": 178,
     "metadata": {},
     "output_type": "execute_result"
    }
   ],
   "source": [
    "# My example code\n",
    "# know what dimensions\n",
    "U.shape"
   ]
  },
  {
   "cell_type": "code",
   "execution_count": 179,
   "id": "663333fd",
   "metadata": {},
   "outputs": [
    {
     "data": {
      "text/plain": [
       "(4, 5)"
      ]
     },
     "execution_count": 179,
     "metadata": {},
     "output_type": "execute_result"
    }
   ],
   "source": [
    "# Example code from pdf\n",
    "# Another way\n",
    "np.shape(A)"
   ]
  },
  {
   "cell_type": "code",
   "execution_count": 180,
   "id": "90a3ef39",
   "metadata": {},
   "outputs": [
    {
     "data": {
      "text/plain": [
       "(2, 3)"
      ]
     },
     "execution_count": 180,
     "metadata": {},
     "output_type": "execute_result"
    }
   ],
   "source": [
    "# My example code\n",
    "# Another way\n",
    "np.shape(U)"
   ]
  },
  {
   "cell_type": "markdown",
   "id": "190da77f",
   "metadata": {},
   "source": [
    "# Common Operations"
   ]
  },
  {
   "cell_type": "code",
   "execution_count": 181,
   "id": "74191c9b",
   "metadata": {},
   "outputs": [
    {
     "name": "stdout",
     "output_type": "stream",
     "text": [
      "A: [ 1  2  3  4  5  6  7  8  9 10 11 12 13 14 15]\n",
      "B: [ 1  3  5  7  9 11 13 15 17 19 21 23 25 27 29]\n",
      "C:\n",
      "[[0 1]\n",
      " [2 3]]\n",
      "D:\n",
      "[[0 1]\n",
      " [2 3]]\n",
      "E:\n",
      "[[ 1  2  3  4  5]\n",
      " [ 6  7  8  9 10]\n",
      " [11 12 13 14 15]]\n",
      "F: [ 0  1  2  3  4  5  6  7  8  9 10]\n"
     ]
    }
   ],
   "source": [
    "# Example code from pdf\n",
    "A = np.arange(1, 16)\n",
    "B = np.arange(1, 30, 2)\n",
    "C = np.arange(0, 4).reshape(2, 2)\n",
    "D = np.arange(0, 4).reshape(2, 2)\n",
    "E = np.arange(1, 16).reshape(3, 5)\n",
    "F = np.arange(11)\n",
    "print(f'A: {A}')\n",
    "print(f'B: {B}')\n",
    "print('C:')\n",
    "print(C)\n",
    "print('D:')\n",
    "print(D)\n",
    "print('E:')\n",
    "print(E)\n",
    "print(f'F: {F}')"
   ]
  },
  {
   "cell_type": "code",
   "execution_count": 182,
   "id": "ff22d39e",
   "metadata": {},
   "outputs": [
    {
     "name": "stdout",
     "output_type": "stream",
     "text": [
      "U: [1 2 3 4 5 6 7]\n",
      "V: [ 1  3  5  7  9 11 13]\n",
      "W:\n",
      "[[0 1 2]\n",
      " [3 4 5]\n",
      " [6 7 8]]\n",
      "X:\n",
      "[[0 1 2]\n",
      " [3 4 5]\n",
      " [6 7 8]]\n",
      "Y:\n",
      "[[ 1  2  3  4  5]\n",
      " [ 6  7  8  9 10]\n",
      " [11 12 13 14 15]]\n",
      "Z: [ 0  1  2  3  4  5  6  7  8  9 10 11 12 13 14]\n"
     ]
    }
   ],
   "source": [
    "# My example code\n",
    "U = np.arange(1, 8)\n",
    "V = np.arange(1, 15, 2)\n",
    "W = np.arange(0, 9).reshape(3, 3)\n",
    "X = np.arange(0, 9).reshape(3, 3)\n",
    "Y = np.arange(1, 16).reshape(3, 5)\n",
    "Z = np.arange(15)\n",
    "print(f'U: {U}')\n",
    "print(f'V: {V}')\n",
    "print('W:')\n",
    "print(W)\n",
    "print('X:')\n",
    "print(X)\n",
    "print('Y:')\n",
    "print(Y)\n",
    "print(f'Z: {Z}')"
   ]
  },
  {
   "cell_type": "code",
   "execution_count": 183,
   "id": "c3509b97",
   "metadata": {},
   "outputs": [
    {
     "data": {
      "text/plain": [
       "array([ 2,  5,  8, 11, 14, 17, 20, 23, 26, 29, 32, 35, 38, 41, 44])"
      ]
     },
     "execution_count": 183,
     "metadata": {},
     "output_type": "execute_result"
    }
   ],
   "source": [
    "# Example code from pdf\n",
    "# Add 2 arrays\n",
    "A + B"
   ]
  },
  {
   "cell_type": "code",
   "execution_count": 184,
   "id": "053c83ad",
   "metadata": {
    "scrolled": true
   },
   "outputs": [
    {
     "data": {
      "text/plain": [
       "array([ 2,  5,  8, 11, 14, 17, 20])"
      ]
     },
     "execution_count": 184,
     "metadata": {},
     "output_type": "execute_result"
    }
   ],
   "source": [
    "# My example code\n",
    "# Add 2 arrays\n",
    "U + V"
   ]
  },
  {
   "cell_type": "code",
   "execution_count": 185,
   "id": "16d2c024",
   "metadata": {},
   "outputs": [
    {
     "data": {
      "text/plain": [
       "array([ 6,  7,  8,  9, 10, 11, 12, 13, 14, 15, 16, 17, 18, 19, 20])"
      ]
     },
     "execution_count": 185,
     "metadata": {},
     "output_type": "execute_result"
    }
   ],
   "source": [
    "# Example code from pdf\n",
    "# Add 5 to every position\n",
    "A + 5"
   ]
  },
  {
   "cell_type": "code",
   "execution_count": 186,
   "id": "724e5251",
   "metadata": {},
   "outputs": [
    {
     "data": {
      "text/plain": [
       "array([ 6,  7,  8,  9, 10, 11, 12])"
      ]
     },
     "execution_count": 186,
     "metadata": {},
     "output_type": "execute_result"
    }
   ],
   "source": [
    "# My example code\n",
    "# Add 5 to every position\n",
    "U + 5"
   ]
  },
  {
   "cell_type": "code",
   "execution_count": 187,
   "id": "0b7b46b1",
   "metadata": {},
   "outputs": [
    {
     "data": {
      "text/plain": [
       "array([  0,  -1,  -2,  -3,  -4,  -5,  -6,  -7,  -8,  -9, -10, -11, -12,\n",
       "       -13, -14])"
      ]
     },
     "execution_count": 187,
     "metadata": {},
     "output_type": "execute_result"
    }
   ],
   "source": [
    "# Example code from pdf\n",
    "# Subtract array B from A\n",
    "A - B"
   ]
  },
  {
   "cell_type": "code",
   "execution_count": 188,
   "id": "c93ec9d3",
   "metadata": {},
   "outputs": [
    {
     "data": {
      "text/plain": [
       "array([ 0, -1, -2, -3, -4, -5, -6])"
      ]
     },
     "execution_count": 188,
     "metadata": {},
     "output_type": "execute_result"
    }
   ],
   "source": [
    "# My example code\n",
    "# Subtract array V from U\n",
    "U - V"
   ]
  },
  {
   "cell_type": "code",
   "execution_count": 189,
   "id": "3e3834a4",
   "metadata": {},
   "outputs": [
    {
     "data": {
      "text/plain": [
       "array([-4, -3, -2, -1,  0,  1,  2,  3,  4,  5,  6,  7,  8,  9, 10])"
      ]
     },
     "execution_count": 189,
     "metadata": {},
     "output_type": "execute_result"
    }
   ],
   "source": [
    "# Example code from pdf\n",
    "# Subtract 5 from array A\n",
    "A - 5"
   ]
  },
  {
   "cell_type": "code",
   "execution_count": 190,
   "id": "7a1008cd",
   "metadata": {},
   "outputs": [
    {
     "data": {
      "text/plain": [
       "array([-4, -3, -2, -1,  0,  1,  2])"
      ]
     },
     "execution_count": 190,
     "metadata": {},
     "output_type": "execute_result"
    }
   ],
   "source": [
    "# My example code\n",
    "# Subtract 5 from array U\n",
    "U - 5"
   ]
  },
  {
   "cell_type": "code",
   "execution_count": 191,
   "id": "13e10519",
   "metadata": {},
   "outputs": [
    {
     "data": {
      "text/plain": [
       "array([  1,   6,  15,  28,  45,  66,  91, 120, 153, 190, 231, 276, 325,\n",
       "       378, 435])"
      ]
     },
     "execution_count": 191,
     "metadata": {},
     "output_type": "execute_result"
    }
   ],
   "source": [
    "# Example code from pdf\n",
    "# Multiply both arrays\n",
    "A * B"
   ]
  },
  {
   "cell_type": "code",
   "execution_count": 192,
   "id": "0ecdad83",
   "metadata": {},
   "outputs": [
    {
     "data": {
      "text/plain": [
       "array([ 1,  6, 15, 28, 45, 66, 91])"
      ]
     },
     "execution_count": 192,
     "metadata": {},
     "output_type": "execute_result"
    }
   ],
   "source": [
    "# My example code\n",
    "# Multiply both arrays\n",
    "U * V"
   ]
  },
  {
   "cell_type": "code",
   "execution_count": 193,
   "id": "f73550eb",
   "metadata": {},
   "outputs": [
    {
     "data": {
      "text/plain": [
       "array([ 5, 10, 15, 20, 25, 30, 35, 40, 45, 50, 55, 60, 65, 70, 75])"
      ]
     },
     "execution_count": 193,
     "metadata": {},
     "output_type": "execute_result"
    }
   ],
   "source": [
    "# Example code from pdf\n",
    "# Multiply array A by 5\n",
    "A * 5"
   ]
  },
  {
   "cell_type": "code",
   "execution_count": 194,
   "id": "b449cc88",
   "metadata": {},
   "outputs": [
    {
     "data": {
      "text/plain": [
       "array([ 5, 10, 15, 20, 25, 30, 35])"
      ]
     },
     "execution_count": 194,
     "metadata": {},
     "output_type": "execute_result"
    }
   ],
   "source": [
    "# My example code\n",
    "# Multiply array u by 5\n",
    "U * 5"
   ]
  },
  {
   "cell_type": "code",
   "execution_count": 195,
   "id": "9cb34a52",
   "metadata": {},
   "outputs": [
    {
     "data": {
      "text/plain": [
       "array([1.        , 0.66666667, 0.6       , 0.57142857, 0.55555556,\n",
       "       0.54545455, 0.53846154, 0.53333333, 0.52941176, 0.52631579,\n",
       "       0.52380952, 0.52173913, 0.52      , 0.51851852, 0.51724138])"
      ]
     },
     "execution_count": 195,
     "metadata": {},
     "output_type": "execute_result"
    }
   ],
   "source": [
    "# Example code from pdf\n",
    "# Divide both arrays\n",
    "A / B"
   ]
  },
  {
   "cell_type": "code",
   "execution_count": 196,
   "id": "7b3976c2",
   "metadata": {},
   "outputs": [
    {
     "data": {
      "text/plain": [
       "array([1.        , 0.66666667, 0.6       , 0.57142857, 0.55555556,\n",
       "       0.54545455, 0.53846154])"
      ]
     },
     "execution_count": 196,
     "metadata": {},
     "output_type": "execute_result"
    }
   ],
   "source": [
    "# My example code\n",
    "# Divide both arrays\n",
    "U / V"
   ]
  },
  {
   "cell_type": "code",
   "execution_count": 197,
   "id": "493ec1f5",
   "metadata": {},
   "outputs": [
    {
     "data": {
      "text/plain": [
       "array([0.5, 1. , 1.5, 2. , 2.5, 3. , 3.5, 4. , 4.5, 5. , 5.5, 6. , 6.5,\n",
       "       7. , 7.5])"
      ]
     },
     "execution_count": 197,
     "metadata": {},
     "output_type": "execute_result"
    }
   ],
   "source": [
    "# Example code from pdf\n",
    "# Divide array A by 2\n",
    "A / 2"
   ]
  },
  {
   "cell_type": "code",
   "execution_count": 198,
   "id": "10631ccc",
   "metadata": {},
   "outputs": [
    {
     "data": {
      "text/plain": [
       "array([0.5, 1. , 1.5, 2. , 2.5, 3. , 3.5])"
      ]
     },
     "execution_count": 198,
     "metadata": {},
     "output_type": "execute_result"
    }
   ],
   "source": [
    "# My example code\n",
    "# Divide array U by 2\n",
    "U / 2"
   ]
  },
  {
   "cell_type": "code",
   "execution_count": 199,
   "id": "978c6af4",
   "metadata": {},
   "outputs": [
    {
     "data": {
      "text/plain": [
       "array([[ 2,  3],\n",
       "       [ 6, 11]])"
      ]
     },
     "execution_count": 199,
     "metadata": {},
     "output_type": "execute_result"
    }
   ],
   "source": [
    "# Example code from pdf\n",
    "np.matmul(C, D)"
   ]
  },
  {
   "cell_type": "code",
   "execution_count": 200,
   "id": "47a646c0",
   "metadata": {},
   "outputs": [
    {
     "data": {
      "text/plain": [
       "array([[ 15,  18,  21],\n",
       "       [ 42,  54,  66],\n",
       "       [ 69,  90, 111]])"
      ]
     },
     "execution_count": 200,
     "metadata": {},
     "output_type": "execute_result"
    }
   ],
   "source": [
    "# My example code\n",
    "np.matmul(W, X)"
   ]
  },
  {
   "cell_type": "code",
   "execution_count": 201,
   "id": "f6919c80",
   "metadata": {},
   "outputs": [
    {
     "data": {
      "text/plain": [
       "array([[1.        , 1.41421356, 1.73205081, 2.        , 2.23606798],\n",
       "       [2.44948974, 2.64575131, 2.82842712, 3.        , 3.16227766],\n",
       "       [3.31662479, 3.46410162, 3.60555128, 3.74165739, 3.87298335]])"
      ]
     },
     "execution_count": 201,
     "metadata": {},
     "output_type": "execute_result"
    }
   ],
   "source": [
    "# Example code from pdf\n",
    "# Square root the matrix\n",
    "np.sqrt(E)"
   ]
  },
  {
   "cell_type": "code",
   "execution_count": 202,
   "id": "3d695698",
   "metadata": {},
   "outputs": [
    {
     "data": {
      "text/plain": [
       "array([[1.        , 1.41421356, 1.73205081, 2.        , 2.23606798],\n",
       "       [2.44948974, 2.64575131, 2.82842712, 3.        , 3.16227766],\n",
       "       [3.31662479, 3.46410162, 3.60555128, 3.74165739, 3.87298335]])"
      ]
     },
     "execution_count": 202,
     "metadata": {},
     "output_type": "execute_result"
    }
   ],
   "source": [
    "# My example code\n",
    "# Square root the matrix\n",
    "np.sqrt(Y)"
   ]
  },
  {
   "cell_type": "code",
   "execution_count": 203,
   "id": "dcf042a3",
   "metadata": {},
   "outputs": [
    {
     "data": {
      "text/plain": [
       "array([[0.        , 0.69314718, 1.09861229, 1.38629436, 1.60943791],\n",
       "       [1.79175947, 1.94591015, 2.07944154, 2.19722458, 2.30258509],\n",
       "       [2.39789527, 2.48490665, 2.56494936, 2.63905733, 2.7080502 ]])"
      ]
     },
     "execution_count": 203,
     "metadata": {},
     "output_type": "execute_result"
    }
   ],
   "source": [
    "# Example code from pdf\n",
    "# Log\n",
    "np.log(E)"
   ]
  },
  {
   "cell_type": "code",
   "execution_count": 204,
   "id": "d3f43b08",
   "metadata": {},
   "outputs": [
    {
     "data": {
      "text/plain": [
       "array([[0.        , 0.69314718, 1.09861229, 1.38629436, 1.60943791],\n",
       "       [1.79175947, 1.94591015, 2.07944154, 2.19722458, 2.30258509],\n",
       "       [2.39789527, 2.48490665, 2.56494936, 2.63905733, 2.7080502 ]])"
      ]
     },
     "execution_count": 204,
     "metadata": {},
     "output_type": "execute_result"
    }
   ],
   "source": [
    "# My example code\n",
    "# Log\n",
    "np.log(Y)"
   ]
  },
  {
   "cell_type": "code",
   "execution_count": 205,
   "id": "f6203477",
   "metadata": {},
   "outputs": [
    {
     "data": {
      "text/plain": [
       "array([ -1, 100,  -1, 300,  -1, 500,  -1, 700,  -1, 900,  -1])"
      ]
     },
     "execution_count": 205,
     "metadata": {},
     "output_type": "execute_result"
    }
   ],
   "source": [
    "# Example code from pdf\n",
    "np.where(F%2==0, -1, F*100)"
   ]
  },
  {
   "cell_type": "code",
   "execution_count": 206,
   "id": "3e2f1bbe",
   "metadata": {},
   "outputs": [
    {
     "data": {
      "text/plain": [
       "array([ -1,  10,  -1,  30,  -1,  50,  -1,  70,  -1,  90,  -1, 110,  -1,\n",
       "       130,  -1])"
      ]
     },
     "execution_count": 206,
     "metadata": {},
     "output_type": "execute_result"
    }
   ],
   "source": [
    "# My example code\n",
    "np.where(Z % 2 == 0, -1, Z * 10)"
   ]
  },
  {
   "cell_type": "markdown",
   "id": "8ec6fb2c",
   "metadata": {},
   "source": [
    "# Indexing"
   ]
  },
  {
   "cell_type": "code",
   "execution_count": 207,
   "id": "36caf87b",
   "metadata": {},
   "outputs": [
    {
     "data": {
      "text/plain": [
       "array([ 0,  1,  2,  3,  4,  5,  6,  7,  8,  9, 10, 11, 12, 13, 14])"
      ]
     },
     "execution_count": 207,
     "metadata": {},
     "output_type": "execute_result"
    }
   ],
   "source": [
    "# Example code from pdf\n",
    "A = np.arange(15)\n",
    "A"
   ]
  },
  {
   "cell_type": "code",
   "execution_count": 208,
   "id": "834874de",
   "metadata": {},
   "outputs": [
    {
     "data": {
      "text/plain": [
       "array([ 0,  1,  2,  3,  4,  5,  6,  7,  8,  9, 10, 11, 12, 13, 14, 15, 16,\n",
       "       17, 18, 19, 20, 21, 22, 23, 24])"
      ]
     },
     "execution_count": 208,
     "metadata": {},
     "output_type": "execute_result"
    }
   ],
   "source": [
    "# My example code\n",
    "U = np.arange(25)\n",
    "U"
   ]
  },
  {
   "cell_type": "code",
   "execution_count": 209,
   "id": "5ec8f9f4",
   "metadata": {},
   "outputs": [
    {
     "name": "stdout",
     "output_type": "stream",
     "text": [
      "A[0]: 0\n",
      "A[5]: 5\n",
      "A[14]: 14\n"
     ]
    }
   ],
   "source": [
    "# Example code from pdf\n",
    "print(f'A[0]: {A[0]}')\n",
    "print(f'A[5]: {A[5]}')\n",
    "print(f'A[14]: {A[14]}')"
   ]
  },
  {
   "cell_type": "code",
   "execution_count": 210,
   "id": "7eb99e88",
   "metadata": {},
   "outputs": [
    {
     "name": "stdout",
     "output_type": "stream",
     "text": [
      "U[2]: 2\n",
      "U[10]: 10\n",
      "U[24]: 24\n"
     ]
    }
   ],
   "source": [
    "# My example code\n",
    "print(f'U[2]: {U[2]}')\n",
    "print(f'U[10]: {U[10]}')\n",
    "print(f'U[24]: {U[24]}')"
   ]
  },
  {
   "cell_type": "code",
   "execution_count": 211,
   "id": "61c8ca84",
   "metadata": {},
   "outputs": [
    {
     "data": {
      "text/plain": [
       "array([0, 1, 2, 3, 4, 5, 6, 7, 8, 9])"
      ]
     },
     "execution_count": 211,
     "metadata": {},
     "output_type": "execute_result"
    }
   ],
   "source": [
    "# Example code from pdf\n",
    "# [start_index:stop_index]\n",
    "A[0:10]"
   ]
  },
  {
   "cell_type": "code",
   "execution_count": 212,
   "id": "ad9468da",
   "metadata": {},
   "outputs": [
    {
     "data": {
      "text/plain": [
       "array([ 5,  6,  7,  8,  9, 10, 11, 12, 13, 14, 15, 16, 17, 18, 19, 20, 21,\n",
       "       22, 23, 24])"
      ]
     },
     "execution_count": 212,
     "metadata": {},
     "output_type": "execute_result"
    }
   ],
   "source": [
    "# My example code\n",
    "# [start_index:stop_index]\n",
    "U[5:25]"
   ]
  },
  {
   "cell_type": "code",
   "execution_count": 213,
   "id": "013b57d1",
   "metadata": {},
   "outputs": [
    {
     "data": {
      "text/plain": [
       "array([500, 500, 500, 500, 500, 500, 500, 500, 500, 500,  10,  11,  12,\n",
       "        13,  14])"
      ]
     },
     "execution_count": 213,
     "metadata": {},
     "output_type": "execute_result"
    }
   ],
   "source": [
    "# Example code from pdf\n",
    "# modify values\n",
    "A[0:10] = 500\n",
    "A"
   ]
  },
  {
   "cell_type": "code",
   "execution_count": 214,
   "id": "60b9765d",
   "metadata": {},
   "outputs": [
    {
     "data": {
      "text/plain": [
       "array([  0,   1,   2,   3,   4, 777, 777, 777, 777, 777, 777, 777, 777,\n",
       "       777, 777,  15,  16,  17,  18,  19,  20,  21,  22,  23,  24])"
      ]
     },
     "execution_count": 214,
     "metadata": {},
     "output_type": "execute_result"
    }
   ],
   "source": [
    "# My example code\n",
    "# modify values\n",
    "U[5:15] = 777\n",
    "U"
   ]
  },
  {
   "cell_type": "code",
   "execution_count": 215,
   "id": "0de0818f",
   "metadata": {},
   "outputs": [
    {
     "data": {
      "text/plain": [
       "array([[ 0,  1,  2,  3,  4,  5,  6,  7,  8,  9],\n",
       "       [10, 11, 12, 13, 14, 15, 16, 17, 18, 19],\n",
       "       [20, 21, 22, 23, 24, 25, 26, 27, 28, 29],\n",
       "       [30, 31, 32, 33, 34, 35, 36, 37, 38, 39],\n",
       "       [40, 41, 42, 43, 44, 45, 46, 47, 48, 49]])"
      ]
     },
     "execution_count": 215,
     "metadata": {},
     "output_type": "execute_result"
    }
   ],
   "source": [
    "# Example code from pdf\n",
    "# 2d array\n",
    "B = np.arange(50).reshape(5, 10)\n",
    "B"
   ]
  },
  {
   "cell_type": "code",
   "execution_count": 216,
   "id": "8150ed61",
   "metadata": {},
   "outputs": [
    {
     "data": {
      "text/plain": [
       "array([[ 0,  1,  2,  3,  4],\n",
       "       [ 5,  6,  7,  8,  9],\n",
       "       [10, 11, 12, 13, 14],\n",
       "       [15, 16, 17, 18, 19],\n",
       "       [20, 21, 22, 23, 24]])"
      ]
     },
     "execution_count": 216,
     "metadata": {},
     "output_type": "execute_result"
    }
   ],
   "source": [
    "# My example code\n",
    "# 2d array\n",
    "V = np.arange(25).reshape(5, 5)\n",
    "V"
   ]
  },
  {
   "cell_type": "code",
   "execution_count": 217,
   "id": "383f4483",
   "metadata": {},
   "outputs": [
    {
     "name": "stdout",
     "output_type": "stream",
     "text": [
      "0th row and 2nd col in B: 2\n",
      "3rd row and 3rd col in B: 33\n",
      "4th row and 2nd col in B: 42\n"
     ]
    }
   ],
   "source": [
    "# Example code from pdf\n",
    "# indexing 2d array\n",
    "print(f'0th row and 2nd col in B: {B[0, 2]}')\n",
    "print(f'3rd row and 3rd col in B: {B[3, 3]}')\n",
    "print(f'4th row and 2nd col in B: {B[4, 2]}')"
   ]
  },
  {
   "cell_type": "code",
   "execution_count": 218,
   "id": "f3ad37a2",
   "metadata": {},
   "outputs": [
    {
     "name": "stdout",
     "output_type": "stream",
     "text": [
      "0th row and 3rd col in V: 3\n",
      "2nd row and 1st col in V: 5\n",
      "4th row and 4th col in V: 24\n"
     ]
    }
   ],
   "source": [
    "# My example code\n",
    "# indexing 2d array\n",
    "print(f'0th row and 3rd col in V: {V[0, 3]}')\n",
    "print(f'2nd row and 1st col in V: {V[1, 0]}')\n",
    "print(f'4th row and 4th col in V: {V[4, 4]}')"
   ]
  },
  {
   "cell_type": "code",
   "execution_count": 219,
   "id": "8e2a6781",
   "metadata": {},
   "outputs": [
    {
     "data": {
      "text/plain": [
       "array([[ 3,  4],\n",
       "       [13, 14]])"
      ]
     },
     "execution_count": 219,
     "metadata": {},
     "output_type": "execute_result"
    }
   ],
   "source": [
    "# Example code from pdf\n",
    "# Selection parts of row and col from 2d array\n",
    "B[0:2, 3:5]"
   ]
  },
  {
   "cell_type": "code",
   "execution_count": 220,
   "id": "da80a9cf",
   "metadata": {},
   "outputs": [
    {
     "data": {
      "text/plain": [
       "array([[ 3,  4],\n",
       "       [ 8,  9],\n",
       "       [13, 14]])"
      ]
     },
     "execution_count": 220,
     "metadata": {},
     "output_type": "execute_result"
    }
   ],
   "source": [
    "# My example code \n",
    "# Selection parts of row and col from 2d array\n",
    "V[0:3, 3:5]"
   ]
  },
  {
   "cell_type": "code",
   "execution_count": 221,
   "id": "4b08b7e9",
   "metadata": {},
   "outputs": [
    {
     "data": {
      "text/plain": [
       "array([[ 0,  1,  2, -1, -1,  5,  6,  7,  8,  9],\n",
       "       [10, 11, 12, -1, -1, 15, 16, 17, 18, 19],\n",
       "       [20, 21, 22, 23, 24, 25, 26, 27, 28, 29],\n",
       "       [30, 31, 32, 33, 34, 35, 36, 37, 38, 39],\n",
       "       [40, 41, 42, 43, 44, 45, 46, 47, 48, 49]])"
      ]
     },
     "execution_count": 221,
     "metadata": {},
     "output_type": "execute_result"
    }
   ],
   "source": [
    "# Example code from pdf\n",
    "# we can modify values like this\n",
    "B[0:2, 3:5] = -1\n",
    "B"
   ]
  },
  {
   "cell_type": "code",
   "execution_count": 222,
   "id": "8ef5cb47",
   "metadata": {},
   "outputs": [
    {
     "data": {
      "text/plain": [
       "array([[ 0,  1,  2, -2, -2],\n",
       "       [ 5,  6,  7, -2, -2],\n",
       "       [10, 11, 12, -2, -2],\n",
       "       [15, 16, 17, 18, 19],\n",
       "       [20, 21, 22, 23, 24]])"
      ]
     },
     "execution_count": 222,
     "metadata": {},
     "output_type": "execute_result"
    }
   ],
   "source": [
    "# My example code\n",
    "# we can modify values like this\n",
    "V[0:3, 3:5] = -2\n",
    "V"
   ]
  },
  {
   "cell_type": "code",
   "execution_count": 223,
   "id": "ff174152",
   "metadata": {},
   "outputs": [
    {
     "data": {
      "text/plain": [
       "array([[ 0,  1,  2,  3,  4],\n",
       "       [ 5,  6,  7,  8,  9],\n",
       "       [10, 11, 12, 13, 14],\n",
       "       [15, 16, 17, 18, 19],\n",
       "       [20, 21, 22, 23, 24],\n",
       "       [25, 26, 27, 28, 29],\n",
       "       [30, 31, 32, 33, 34],\n",
       "       [35, 36, 37, 38, 39],\n",
       "       [40, 41, 42, 43, 44],\n",
       "       [45, 46, 47, 48, 49]])"
      ]
     },
     "execution_count": 223,
     "metadata": {},
     "output_type": "execute_result"
    }
   ],
   "source": [
    "# Example code from pdf\n",
    "C = np.arange(50).reshape(10, 5)\n",
    "C"
   ]
  },
  {
   "cell_type": "code",
   "execution_count": 224,
   "id": "76744c84",
   "metadata": {},
   "outputs": [
    {
     "data": {
      "text/plain": [
       "array([[ 0,  1,  2,  3,  4],\n",
       "       [ 5,  6,  7,  8,  9],\n",
       "       [10, 11, 12, 13, 14],\n",
       "       [15, 16, 17, 18, 19],\n",
       "       [20, 21, 22, 23, 24]])"
      ]
     },
     "execution_count": 224,
     "metadata": {},
     "output_type": "execute_result"
    }
   ],
   "source": [
    "# My example code\n",
    "W = np.arange(25).reshape(5, 5)\n",
    "W"
   ]
  },
  {
   "cell_type": "code",
   "execution_count": 225,
   "id": "c29bc00a",
   "metadata": {},
   "outputs": [
    {
     "data": {
      "text/plain": [
       "array([[ True, False,  True, False,  True],\n",
       "       [False,  True, False,  True, False],\n",
       "       [ True, False,  True, False,  True],\n",
       "       [False,  True, False,  True, False],\n",
       "       [ True, False,  True, False,  True],\n",
       "       [False,  True, False,  True, False],\n",
       "       [ True, False,  True, False,  True],\n",
       "       [False,  True, False,  True, False],\n",
       "       [ True, False,  True, False,  True],\n",
       "       [False,  True, False,  True, False]])"
      ]
     },
     "execution_count": 225,
     "metadata": {},
     "output_type": "execute_result"
    }
   ],
   "source": [
    "# Example code from pdf\n",
    "# Using comparsion operators\n",
    "C%2 == 0"
   ]
  },
  {
   "cell_type": "code",
   "execution_count": 226,
   "id": "cf5e83ce",
   "metadata": {},
   "outputs": [
    {
     "data": {
      "text/plain": [
       "array([[ True, False,  True, False,  True],\n",
       "       [False,  True, False,  True, False],\n",
       "       [ True, False,  True, False,  True],\n",
       "       [False,  True, False,  True, False],\n",
       "       [ True, False,  True, False,  True]])"
      ]
     },
     "execution_count": 226,
     "metadata": {},
     "output_type": "execute_result"
    }
   ],
   "source": [
    "# My example code\n",
    "# Using comparsion operators\n",
    "W % 2 == 0"
   ]
  },
  {
   "cell_type": "code",
   "execution_count": 227,
   "id": "a87cefc6",
   "metadata": {},
   "outputs": [
    {
     "data": {
      "text/plain": [
       "25"
      ]
     },
     "execution_count": 227,
     "metadata": {},
     "output_type": "execute_result"
    }
   ],
   "source": [
    "# Example code from pdf\n",
    "# call the sum function\n",
    "(C%2 == 0).sum()"
   ]
  },
  {
   "cell_type": "code",
   "execution_count": 228,
   "id": "ca103a6f",
   "metadata": {},
   "outputs": [
    {
     "data": {
      "text/plain": [
       "13"
      ]
     },
     "execution_count": 228,
     "metadata": {},
     "output_type": "execute_result"
    }
   ],
   "source": [
    "# My example code\n",
    "# call the sum function\n",
    "(W % 2 == 0).sum()"
   ]
  },
  {
   "cell_type": "code",
   "execution_count": 229,
   "id": "23b46307",
   "metadata": {},
   "outputs": [
    {
     "data": {
      "text/plain": [
       "array([ 0,  2,  4,  6,  8, 10, 12, 14, 16, 18, 20, 22, 24, 26, 28, 30, 32,\n",
       "       34, 36, 38, 40, 42, 44, 46, 48])"
      ]
     },
     "execution_count": 229,
     "metadata": {},
     "output_type": "execute_result"
    }
   ],
   "source": [
    "# Example code from pdf\n",
    "# filter out false elements and keep true elements\n",
    "C[C%2 == 0]"
   ]
  },
  {
   "cell_type": "code",
   "execution_count": 230,
   "id": "35ec6c85",
   "metadata": {},
   "outputs": [
    {
     "data": {
      "text/plain": [
       "array([ 0,  2,  4,  6,  8, 10, 12, 14, 16, 18, 20, 22, 24])"
      ]
     },
     "execution_count": 230,
     "metadata": {},
     "output_type": "execute_result"
    }
   ],
   "source": [
    "# My example code\n",
    "# filter out false elements and keep true elements\n",
    "W[W % 2 == 0]"
   ]
  },
  {
   "cell_type": "code",
   "execution_count": null,
   "id": "b7c3be16",
   "metadata": {},
   "outputs": [],
   "source": []
  }
 ],
 "metadata": {
  "kernelspec": {
   "display_name": "Python 3 (ipykernel)",
   "language": "python",
   "name": "python3"
  },
  "language_info": {
   "codemirror_mode": {
    "name": "ipython",
    "version": 3
   },
   "file_extension": ".py",
   "mimetype": "text/x-python",
   "name": "python",
   "nbconvert_exporter": "python",
   "pygments_lexer": "ipython3",
   "version": "3.9.13"
  }
 },
 "nbformat": 4,
 "nbformat_minor": 5
}
